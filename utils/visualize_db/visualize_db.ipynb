{
 "metadata": {
  "language_info": {
   "codemirror_mode": {
    "name": "ipython",
    "version": 3
   },
   "file_extension": ".py",
   "mimetype": "text/x-python",
   "name": "python",
   "nbconvert_exporter": "python",
   "pygments_lexer": "ipython3",
   "version": "3.6.8-final"
  },
  "orig_nbformat": 2,
  "kernelspec": {
   "name": "python3",
   "display_name": "Python 3.6.8 64-bit ('qalert': venv)",
   "metadata": {
    "interpreter": {
     "hash": "c93d2a9d2902f941adcd4b7d1bc3fcdad58b51bb6e94b11a8566236f629fa7fd"
    }
   }
  }
 },
 "nbformat": 4,
 "nbformat_minor": 2,
 "cells": [
  {
   "cell_type": "code",
   "execution_count": null,
   "metadata": {
    "tags": [
     "outputPrepend"
    ]
   },
   "outputs": [],
   "source": [
    "!pip install -r requirements.txt"
   ]
  },
  {
   "cell_type": "code",
   "execution_count": null,
   "metadata": {},
   "outputs": [],
   "source": [
    "import geopandas as gpd\n",
    "import psycopg2"
   ]
  },
  {
   "cell_type": "code",
   "execution_count": null,
   "metadata": {},
   "outputs": [],
   "source": [
    "import psycopg2"
   ]
  },
  {
   "cell_type": "code",
   "execution_count": null,
   "metadata": {},
   "outputs": [],
   "source": [
    "con = psycopg2.connect(\n",
    "    database=\"qalert_test\", \n",
    "    user=\"docker\", \n",
    "    password=\"docker\",\n",
    "    host=\"localhost\"\n",
    ")\n",
    "sql = \"select * from qalert_requests limit 200;\"\n",
    "qalert_df = gpd.read_postgis(sql, con, geom_col='point')"
   ]
  },
  {
   "cell_type": "code",
   "execution_count": null,
   "metadata": {},
   "outputs": [],
   "source": [
    "qalert_df.head()"
   ]
  },
  {
   "cell_type": "code",
   "execution_count": null,
   "metadata": {},
   "outputs": [],
   "source": [
    "qalert_df = qalert_df.drop(qalert_df[(qalert_df['latitude'] == 0.0) & (qalert_df['longitude'] == 0.0)].index)"
   ]
  },
  {
   "cell_type": "code",
   "execution_count": null,
   "metadata": {},
   "outputs": [],
   "source": [
    "import folium\n",
    "\n",
    "map = folium.Map([42.859432, -71.332655],\n",
    "                  zoom_start=10)\n",
    "\n",
    "for idx, point in qalert_df.iterrows():\n",
    "    folium.Marker(\n",
    "        location=[point['latitude'], point['longitude']],\n",
    "        popup=point[['type_id']]).add_to(map)"
   ]
  },
  {
   "cell_type": "code",
   "execution_count": null,
   "metadata": {},
   "outputs": [],
   "source": [
    "map"
   ]
  },
  {
   "cell_type": "code",
   "execution_count": null,
   "metadata": {},
   "outputs": [],
   "source": []
  }
 ]
}