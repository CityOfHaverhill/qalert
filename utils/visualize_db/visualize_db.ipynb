{
 "metadata": {
  "language_info": {
   "codemirror_mode": {
    "name": "ipython",
    "version": 3
   },
   "file_extension": ".py",
   "mimetype": "text/x-python",
   "name": "python",
   "nbconvert_exporter": "python",
   "pygments_lexer": "ipython3",
   "version": "3.6.10-final"
  },
  "orig_nbformat": 2,
  "kernelspec": {
   "name": "python361064bit494a1c36fce9415db60ad315c97cf403",
   "display_name": "Python 3.6.10 64-bit"
  }
 },
 "nbformat": 4,
 "nbformat_minor": 2,
 "cells": [
  {
   "cell_type": "code",
   "execution_count": null,
   "metadata": {},
   "outputs": [],
   "source": [
    "import geopandas as gpd\n",
    "import psycopg2"
   ]
  },
  {
   "cell_type": "code",
   "execution_count": null,
   "metadata": {},
   "outputs": [],
   "source": [
    "import psycopg2"
   ]
  },
  {
   "cell_type": "code",
   "execution_count": null,
   "metadata": {},
   "outputs": [],
   "source": [
    "con = psycopg2.connect(\n",
    "    database=\"qalert_test\", \n",
    "    user=\"docker\", \n",
    "    password=\"docker\",\n",
    "    host=\"localhost\"\n",
    ")\n",
    "sql = \"select * from qalert_requests;\"\n",
    "qalert_df = gpd.read_postgis(sql, con, geom_col='point')"
   ]
  },
  {
   "cell_type": "code",
   "execution_count": null,
   "metadata": {},
   "outputs": [],
   "source": [
    "qalert_df.head()"
   ]
  },
  {
   "cell_type": "code",
   "execution_count": null,
   "metadata": {},
   "outputs": [],
   "source": [
    "qalert_df = qalert_df.drop(qalert_df[(qalert_df['latitude'] == 0.0) & (qalert_df['longitude'] == 0.0)].index)"
   ]
  },
  {
   "cell_type": "code",
   "execution_count": null,
   "metadata": {},
   "outputs": [],
   "source": [
    "import folium\n",
    "\n",
    "map = folium.Map([42.859432, -71.332655],\n",
    "                  zoom_start=10)\n",
    "\n",
    "for idx, point in qalert_df.iterrows():\n",
    "    folium.Marker(\n",
    "        location=[point['latitude'], point['longitude']],\n",
    "        popup=point[['type_id']]).add_to(map)"
   ]
  },
  {
   "cell_type": "code",
   "execution_count": null,
   "metadata": {},
   "outputs": [],
   "source": [
    "map"
   ]
  }
 ]
}